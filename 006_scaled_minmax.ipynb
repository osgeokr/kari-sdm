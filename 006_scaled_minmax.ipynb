{
  "nbformat": 4,
  "nbformat_minor": 0,
  "metadata": {
    "colab": {
      "provenance": [],
      "machine_shape": "hm",
      "authorship_tag": "ABX9TyMG+y0gWCwhmcAXQkkW83m7",
      "include_colab_link": true
    },
    "kernelspec": {
      "name": "python3",
      "display_name": "Python 3"
    },
    "language_info": {
      "name": "python"
    }
  },
  "cells": [
    {
      "cell_type": "markdown",
      "metadata": {
        "id": "view-in-github",
        "colab_type": "text"
      },
      "source": [
        "<a href=\"https://colab.research.google.com/github/osgeokr/kari-sdm/blob/main/006_scaled_minmax.ipynb\" target=\"_parent\"><img src=\"https://colab.research.google.com/assets/colab-badge.svg\" alt=\"Open In Colab\"/></a>"
      ]
    },
    {
      "cell_type": "code",
      "source": [
        "!pip install -q -U rasterio"
      ],
      "metadata": {
        "colab": {
          "base_uri": "https://localhost:8080/"
        },
        "id": "1ClYvHAoCEhv",
        "outputId": "ba81dd4c-cba4-42c5-b5e8-c5314e5bbe54"
      },
      "execution_count": 2,
      "outputs": [
        {
          "output_type": "stream",
          "name": "stdout",
          "text": [
            "\u001b[2K   \u001b[90m━━━━━━━━━━━━━━━━━━━━━━━━━━━━━━━━━━━━━━━━\u001b[0m \u001b[32m21.5/21.5 MB\u001b[0m \u001b[31m43.1 MB/s\u001b[0m eta \u001b[36m0:00:00\u001b[0m\n",
            "\u001b[?25h"
          ]
        }
      ]
    },
    {
      "cell_type": "code",
      "execution_count": 3,
      "metadata": {
        "id": "zceo3nDyB6C3"
      },
      "outputs": [],
      "source": [
        "import os\n",
        "import rasterio\n",
        "from rasterio.enums import Resampling\n",
        "from rasterio.shutil import copy\n",
        "from sklearn.preprocessing import MinMaxScaler\n",
        "import numpy as np\n",
        "\n",
        "from google.colab import drive"
      ]
    },
    {
      "cell_type": "code",
      "source": [
        "# Google Drive를 마운트\n",
        "drive.mount('/content/drive')\n",
        "\n",
        "# 경로 설정\n",
        "folder_path = \"/content/drive/My Drive/kari-sdm\"\n",
        "files = [\n",
        "    \"DEM.tif\",\n",
        "    \"SLP.tif\",\n",
        "    \"ASP.tif\",\n",
        "    \"NDBI.tif\",\n",
        "    \"NDVI.tif\",\n",
        "    \"NDWI.tif\",\n",
        "    \"CHT.tif\",\n",
        "    \"TCC.tif\",\n",
        "]"
      ],
      "metadata": {
        "colab": {
          "base_uri": "https://localhost:8080/"
        },
        "id": "SCard3b3CK2o",
        "outputId": "a5f8bb88-c232-4962-f9e0-420b0a7943ca"
      },
      "execution_count": 4,
      "outputs": [
        {
          "output_type": "stream",
          "name": "stdout",
          "text": [
            "Mounted at /content/drive\n"
          ]
        }
      ]
    },
    {
      "cell_type": "code",
      "source": [
        "# 파일 처리 및 저장\n",
        "for file_name in files:\n",
        "    file_path = os.path.join(folder_path, file_name)\n",
        "\n",
        "    with rasterio.open(file_path) as src:\n",
        "        # 첫 번째 밴드를 읽어 스케일링 수행\n",
        "        data = src.read(1)\n",
        "        scaler = MinMaxScaler()\n",
        "        data_scaled = scaler.fit_transform(data.reshape(-1, 1)).reshape(data.shape)\n",
        "\n",
        "        # 스케일링된 파일 이름 설정 (e.g., DEM_scaled.tif)\n",
        "        base_name = os.path.splitext(file_name)[0]\n",
        "        scaled_file_name = f\"{base_name}_scaled_temp.tif\"\n",
        "        scaled_file_path = os.path.join(folder_path, scaled_file_name)\n",
        "\n",
        "        # COG로 저장하기 위한 메타데이터 설정\n",
        "        profile = src.profile\n",
        "        profile.update(\n",
        "            dtype=rasterio.float32,\n",
        "            count=1,\n",
        "            compress='lzw'\n",
        "        )\n",
        "\n",
        "        # 스케일링된 데이터를 임시 파일에 저장\n",
        "        with rasterio.open(scaled_file_path, 'w', **profile) as dst:\n",
        "            dst.write(data_scaled.astype(rasterio.float32), 1)\n",
        "\n",
        "        # COG로 변환하여 원래 원하는 파일 이름으로 저장\n",
        "        final_scaled_file_path = os.path.join(folder_path, f\"{base_name}_scaled.tif\")\n",
        "        os.rename(scaled_file_path, final_scaled_file_path)\n",
        "\n",
        "        print(f\"Processed and saved {final_scaled_file_path} as COG\")"
      ],
      "metadata": {
        "colab": {
          "base_uri": "https://localhost:8080/"
        },
        "id": "yKiriq8wCngF",
        "outputId": "67b2beca-d307-461b-f318-60e735dfa530"
      },
      "execution_count": 5,
      "outputs": [
        {
          "output_type": "stream",
          "name": "stdout",
          "text": [
            "Processed and saved /content/drive/My Drive/kari-sdm/DEM_scaled.tif as COG\n",
            "Processed and saved /content/drive/My Drive/kari-sdm/SLP_scaled.tif as COG\n",
            "Processed and saved /content/drive/My Drive/kari-sdm/ASP_scaled.tif as COG\n",
            "Processed and saved /content/drive/My Drive/kari-sdm/NDBI_scaled.tif as COG\n",
            "Processed and saved /content/drive/My Drive/kari-sdm/NDVI_scaled.tif as COG\n",
            "Processed and saved /content/drive/My Drive/kari-sdm/NDWI_scaled.tif as COG\n",
            "Processed and saved /content/drive/My Drive/kari-sdm/CHT_scaled.tif as COG\n",
            "Processed and saved /content/drive/My Drive/kari-sdm/TCC_scaled.tif as COG\n"
          ]
        }
      ]
    }
  ]
}